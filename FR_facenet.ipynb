{
 "cells": [
  {
   "cell_type": "code",
   "execution_count": 1,
   "metadata": {},
   "outputs": [
    {
     "name": "stderr",
     "output_type": "stream",
     "text": [
      "Using TensorFlow backend.\n"
     ]
    }
   ],
   "source": [
    "import os\n",
    "import cv2\n",
    "import numpy as np\n",
    "import keras\n",
    "import matplotlib.pyplot as plt\n",
    "from keras.models import load_model\n",
    "from sklearn.preprocessing import normalize\n",
    "from mtcnn.mtcnn import MTCNN\n",
    "from sklearn.svm import SVC\n",
    "from sklearn.model_selection import train_test_split"
   ]
  },
  {
   "cell_type": "code",
   "execution_count": 2,
   "metadata": {
    "collapsed": true
   },
   "outputs": [
    {
     "name": "stdout",
     "output_type": "stream",
     "text": [
      "WARNING:tensorflow:From /usr/local/lib/python3.7/dist-packages/tensorflow/python/framework/op_def_library.py:263: colocate_with (from tensorflow.python.framework.ops) is deprecated and will be removed in a future version.\n",
      "Instructions for updating:\n",
      "Colocations handled automatically by placer.\n",
      "WARNING:tensorflow:From /usr/local/lib/python3.7/dist-packages/keras/backend/tensorflow_backend.py:3445: calling dropout (from tensorflow.python.ops.nn_ops) with keep_prob is deprecated and will be removed in a future version.\n",
      "Instructions for updating:\n",
      "Please use `rate` instead of `keep_prob`. Rate should be set to `rate = 1 - keep_prob`.\n"
     ]
    },
    {
     "name": "stderr",
     "output_type": "stream",
     "text": [
      "/usr/local/lib/python3.7/dist-packages/keras/engine/saving.py:292: UserWarning: No training configuration found in save file: the model was *not* compiled. Compile it manually.\n",
      "  warnings.warn('No training configuration found in save file: '\n"
     ]
    }
   ],
   "source": [
    "model = load_model('facenet_keras.h5')"
   ]
  },
  {
   "cell_type": "markdown",
   "metadata": {},
   "source": [
    "## loading Images of suprer star............"
   ]
  },
  {
   "cell_type": "code",
   "execution_count": 4,
   "metadata": {},
   "outputs": [
    {
     "name": "stdout",
     "output_type": "stream",
     "text": [
      "/home/sourabh/Documents/facenet/celeb_faces/data/train/ben_afflek\n"
     ]
    }
   ],
   "source": [
    "cd /home/sourabh/Documents/facenet/celeb_faces/data/train/ben_afflek"
   ]
  },
  {
   "cell_type": "code",
   "execution_count": 5,
   "metadata": {},
   "outputs": [
    {
     "data": {
      "text/plain": [
       "73"
      ]
     },
     "execution_count": 5,
     "metadata": {},
     "output_type": "execute_result"
    }
   ],
   "source": [
    "items = os.listdir()\n",
    "len(items)"
   ]
  },
  {
   "cell_type": "code",
   "execution_count": 6,
   "metadata": {},
   "outputs": [],
   "source": [
    "def find_face(frame):\n",
    "    detector = MTCNN()\n",
    "    result = detector.detect_faces(frame)\n",
    "    x,y,w,h = result[0]['box']\n",
    "    x1,y1 = x+w,y+h\n",
    "    face = frame[y:y1,x:x1]\n",
    "    return face"
   ]
  },
  {
   "cell_type": "code",
   "execution_count": 7,
   "metadata": {
    "collapsed": true
   },
   "outputs": [
    {
     "name": "stdout",
     "output_type": "stream",
     "text": [
      "WARNING:tensorflow:From /home/sourabh/.local/lib/python3.7/site-packages/mtcnn/layer_factory.py:221: div (from tensorflow.python.ops.math_ops) is deprecated and will be removed in a future version.\n",
      "Instructions for updating:\n",
      "Deprecated in favor of operator or tf.math.divide.\n",
      "kaling16.jpg\n",
      "madona8.jpg\n",
      "jerry5.jpg\n",
      "madona10.jpg\n",
      "kaling17.jpg\n",
      "kaling20.jpg\n",
      "jerry11.jpg\n",
      "kaling18.jpg\n",
      "ben4.jpg\n",
      "kaling2.jpg\n",
      "kaling19.jpg\n",
      "ben5.jpg\n",
      "jerry20.jpg\n",
      "kaling22.jpg\n",
      "jerry8.jpg\n",
      "kaling7.jpg\n",
      "jerry9.jpg\n",
      "jerry1.jpg\n",
      "jerry13.jpg\n",
      "kaling9.jpg\n",
      "jerry18.jpg\n",
      "ben3.jpg\n",
      "jerry17.jpg\n",
      "ben6.jpg\n",
      "madona4.jpg\n",
      "kaling11.jpg\n",
      "madona12.jpg\n",
      "jerry16.jpg\n",
      "ben11.jpg\n",
      "madona2.jpg\n",
      "jerry7.jpg\n",
      "madona15.jpg\n",
      "kaling3.jpg\n",
      "kaling15.jpg\n",
      "kaling1.jpg\n",
      "madona16.jpg\n",
      "jerry19.jpg\n",
      "ben7.jpg\n",
      "jerry2.jpg\n",
      "ben1.jpg\n",
      "ben2.jpg\n",
      "kaling12.jpg\n",
      "jerry10.jpg\n",
      "kaling4.jpg\n",
      "madona9.jpg\n",
      "madona3.jpg\n",
      "madona7.jpg\n",
      "madona19.jpg\n",
      "madona5.jpg\n",
      "madona14.jpg\n",
      "madona11.jpg\n",
      "ben8.jpg\n",
      "ben12.jpg\n",
      "kaling8.jpg\n",
      "ben10.jpg\n",
      "madona6.jpg\n",
      "kaling6.jpg\n",
      "jerry14.jpg\n",
      "madona1.jpg\n",
      "madona18.jpg\n",
      "jerry4.jpg\n",
      "ben13.jpg\n",
      "kaling21.jpg\n",
      "jerry3.jpg\n",
      "jerry15.jpg\n",
      "madona17.jpg\n",
      "ben9.jpg\n",
      "jerry6.jpg\n",
      "kaling10.jpg\n",
      "jerry12.jpg\n",
      "kaling14.jpg\n",
      "kaling5.jpg\n"
     ]
    }
   ],
   "source": [
    "faces, name = [],[]\n",
    "for i in items:\n",
    "\n",
    "    try:\n",
    "        # reading image as an array.\n",
    "        frame = cv2.imread(i)\n",
    "        # calling find_face() function.\n",
    "        face = find_face(frame)\n",
    "        # resizing into (160,160)\n",
    "        face = cv2.resize(face,(160,160))\n",
    "        # normalizing the faces data.\n",
    "        face = (face-face.mean())/face.std()\n",
    "        # appending face in list: faces.\n",
    "        faces.append(face)\n",
    "\n",
    "        if i.startswith('b'):\n",
    "            name.append(0)\n",
    "        if i.startswith('j'):\n",
    "            name.append(1)\n",
    "        if i.startswith('k'):\n",
    "            name.append(2)\n",
    "        if i.startswith('m'):\n",
    "            name.append(3)\n",
    "        print(i)\n",
    "        \n",
    "    except: pass"
   ]
  },
  {
   "cell_type": "code",
   "execution_count": 8,
   "metadata": {},
   "outputs": [],
   "source": [
    "# list of all the faces.\n",
    "# all faces have diff dimensions.\n",
    "faces = np.asarray(faces)"
   ]
  },
  {
   "cell_type": "markdown",
   "metadata": {},
   "source": [
    "## facenet_model"
   ]
  },
  {
   "cell_type": "code",
   "execution_count": 9,
   "metadata": {},
   "outputs": [],
   "source": [
    "ans=model.predict(np.expand_dims(faces[0],axis=0))"
   ]
  },
  {
   "cell_type": "code",
   "execution_count": 10,
   "metadata": {},
   "outputs": [],
   "source": [
    "vector = []\n",
    "for face in faces:\n",
    "    predictions = model.predict(np.expand_dims(face,axis=0))\n",
    "    vector.append(np.squeeze(predictions,axis=0))"
   ]
  },
  {
   "cell_type": "code",
   "execution_count": 11,
   "metadata": {},
   "outputs": [],
   "source": [
    "vector = np.asarray(vector)"
   ]
  },
  {
   "cell_type": "code",
   "execution_count": 12,
   "metadata": {},
   "outputs": [],
   "source": [
    "vector = normalize(vector,norm='l2')"
   ]
  },
  {
   "cell_type": "code",
   "execution_count": 13,
   "metadata": {},
   "outputs": [
    {
     "data": {
      "text/plain": [
       "(72, 128)"
      ]
     },
     "execution_count": 13,
     "metadata": {},
     "output_type": "execute_result"
    }
   ],
   "source": [
    "vector.shape"
   ]
  },
  {
   "cell_type": "code",
   "execution_count": 34,
   "metadata": {},
   "outputs": [],
   "source": [
    "Y = np.zeros((72,4))\n",
    "for i in range(72):\n",
    "    Y[i][name[i]]+=1"
   ]
  },
  {
   "cell_type": "markdown",
   "metadata": {},
   "source": [
    "## classification"
   ]
  },
  {
   "cell_type": "code",
   "execution_count": 28,
   "metadata": {},
   "outputs": [],
   "source": [
    "clf = SVC(kernel = 'linear')"
   ]
  },
  {
   "cell_type": "code",
   "execution_count": 44,
   "metadata": {},
   "outputs": [],
   "source": [
    "x_train,x_test,y_train,y_test = train_test_split(vector,name,test_size=0.2,random_state=1)"
   ]
  },
  {
   "cell_type": "code",
   "execution_count": 45,
   "metadata": {},
   "outputs": [
    {
     "data": {
      "text/plain": [
       "((57, 128), (57, 1))"
      ]
     },
     "execution_count": 45,
     "metadata": {},
     "output_type": "execute_result"
    }
   ],
   "source": [
    "x_train.shape,y_train.shape"
   ]
  },
  {
   "cell_type": "code",
   "execution_count": 46,
   "metadata": {},
   "outputs": [
    {
     "name": "stderr",
     "output_type": "stream",
     "text": [
      "/usr/local/lib/python3.7/dist-packages/sklearn/utils/validation.py:724: DataConversionWarning: A column-vector y was passed when a 1d array was expected. Please change the shape of y to (n_samples, ), for example using ravel().\n",
      "  y = column_or_1d(y, warn=True)\n"
     ]
    },
    {
     "data": {
      "text/plain": [
       "SVC(C=1.0, cache_size=200, class_weight=None, coef0=0.0,\n",
       "    decision_function_shape='ovr', degree=3, gamma='auto_deprecated',\n",
       "    kernel='linear', max_iter=-1, probability=False, random_state=None,\n",
       "    shrinking=True, tol=0.001, verbose=False)"
      ]
     },
     "execution_count": 46,
     "metadata": {},
     "output_type": "execute_result"
    }
   ],
   "source": [
    "clf.fit(x_train,y_train)"
   ]
  },
  {
   "cell_type": "code",
   "execution_count": 47,
   "metadata": {},
   "outputs": [],
   "source": [
    "pred = clf.predict(x_test)"
   ]
  },
  {
   "cell_type": "code",
   "execution_count": 48,
   "metadata": {},
   "outputs": [
    {
     "data": {
      "text/plain": [
       "0.9333333333333333"
      ]
     },
     "execution_count": 48,
     "metadata": {},
     "output_type": "execute_result"
    }
   ],
   "source": [
    "clf.score(x_test,y_test)"
   ]
  },
  {
   "cell_type": "code",
   "execution_count": null,
   "metadata": {},
   "outputs": [],
   "source": []
  }
 ],
 "metadata": {
  "kernelspec": {
   "display_name": "Python 3",
   "language": "python",
   "name": "python3"
  },
  "language_info": {
   "codemirror_mode": {
    "name": "ipython",
    "version": 3
   },
   "file_extension": ".py",
   "mimetype": "text/x-python",
   "name": "python",
   "nbconvert_exporter": "python",
   "pygments_lexer": "ipython3",
   "version": "3.7.3"
  }
 },
 "nbformat": 4,
 "nbformat_minor": 2
}
